{
 "cells": [
  {
   "cell_type": "code",
   "execution_count": 1,
   "id": "9ec24d1e-1367-4626-b6ec-d66869f9a090",
   "metadata": {},
   "outputs": [],
   "source": [
    "import os\n",
    "import json\n",
    "import numpy as np\n",
    "import pandas as pd\n",
    "import torch\n",
    "import tqdm\n",
    "\n",
    "from sentence_transformers import SentenceTransformer, util\n",
    "model = SentenceTransformer('sentence-transformers/paraphrase-multilingual-mpnet-base-v2')"
   ]
  },
  {
   "cell_type": "code",
   "execution_count": 2,
   "id": "af12746b-3933-4d39-beaa-09ca8b858e7d",
   "metadata": {},
   "outputs": [
    {
     "name": "stdout",
     "output_type": "stream",
     "text": [
      "Current file:test.json\n"
     ]
    },
    {
     "data": {
      "application/vnd.jupyter.widget-view+json": {
       "model_id": "45fc852edb414437b67c162a1f5e100e",
       "version_major": 2,
       "version_minor": 0
      },
      "text/plain": [
       "  0%|          | 0/100 [00:00<?, ?it/s]"
      ]
     },
     "metadata": {},
     "output_type": "display_data"
    },
    {
     "name": "stdout",
     "output_type": "stream",
     "text": [
      "Current file:train.json\n"
     ]
    },
    {
     "data": {
      "application/vnd.jupyter.widget-view+json": {
       "model_id": "74f088182e3d45149a3510b9637b41b0",
       "version_major": 2,
       "version_minor": 0
      },
      "text/plain": [
       "  0%|          | 0/1000 [00:00<?, ?it/s]"
      ]
     },
     "metadata": {},
     "output_type": "display_data"
    },
    {
     "name": "stdout",
     "output_type": "stream",
     "text": [
      "Current file:val.json\n"
     ]
    },
    {
     "data": {
      "application/vnd.jupyter.widget-view+json": {
       "model_id": "d4c1bfef9bcd4805b98a54da9093c316",
       "version_major": 2,
       "version_minor": 0
      },
      "text/plain": [
       "  0%|          | 0/100 [00:00<?, ?it/s]"
      ]
     },
     "metadata": {},
     "output_type": "display_data"
    }
   ],
   "source": [
    "base_path = \"./data/raw/\"\n",
    "write_path = \"./data/ranked/\"\n",
    "\n",
    "def process(file,sampleCount):\n",
    "    print(f\"Current file:{file}\")\n",
    "    with open(f\"{base_path}/{file}\") as f:\n",
    "        data = json.load(f)\n",
    "    df = pd.DataFrame(data)\n",
    "    df=df.transpose()\n",
    "    # Comment below\n",
    "    df = df.head(sampleCount)\n",
    "    # Comment above\n",
    "    \n",
    "    ranked_sentences = []\n",
    "    for i, row in tqdm.notebook.tqdm(df.iterrows(),total=len(df)):\n",
    "        src_sents=[]\n",
    "        paras = df.loc[i][\"segments\"]['facts-and-arguments']\n",
    "        for para in paras:\n",
    "            sent = para.split('।')\n",
    "            sent = [i for i in sent if len(i)!=0 and i!=' ']\n",
    "            src_sents.extend(sent)\n",
    "        s1=src_sents\n",
    "        s2 = [\" \".join(df.loc[i][\"segments\"]['judge-opinion'])]\n",
    "        e1 = model.encode(s1)\n",
    "        e2 = model.encode(s2)\n",
    "        cos_sim = util.cos_sim(e2, e1)\n",
    "        s1 = np.asarray(s1)\n",
    "        ranks=s1[np.argsort(-1*cos_sim[0].numpy())]\n",
    "        ranked_sentences.append(ranks.tolist())\n",
    "\n",
    "    df = df.head(len(ranked_sentences))\n",
    "    df['ranked-sentences'] = ranked_sentences\n",
    "    df['ranked-sentences'].map(len)\n",
    "    file = file.replace(\".json\",\".csv\")\n",
    "    df.to_csv(f\"{write_path}/{file}\")\n",
    "\n",
    "files = os.listdir(base_path)\n",
    "try:\n",
    "    os.mkdir(write_path)\n",
    "except:\n",
    "    pass\n",
    "files = [f for f in files if \".json\" in f]\n",
    "\n",
    "# Test, Train, Val split\n",
    "sampleCount = [100,1000,100]\n",
    "for file,count in zip(files,sampleCount):\n",
    "    process(file,count)\n"
   ]
  }
 ],
 "metadata": {
  "kernelspec": {
   "display_name": "HLDC",
   "language": "python",
   "name": "hldc"
  },
  "language_info": {
   "codemirror_mode": {
    "name": "ipython",
    "version": 3
   },
   "file_extension": ".py",
   "mimetype": "text/x-python",
   "name": "python",
   "nbconvert_exporter": "python",
   "pygments_lexer": "ipython3",
   "version": "3.10.12"
  }
 },
 "nbformat": 4,
 "nbformat_minor": 5
}
