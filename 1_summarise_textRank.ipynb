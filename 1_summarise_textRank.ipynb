{
 "cells": [
  {
   "cell_type": "code",
   "execution_count": 65,
   "id": "bc1a34d7-9208-42d0-8374-6c2658a574ee",
   "metadata": {},
   "outputs": [],
   "source": [
    "import pandas as pd\n",
    "import math\n",
    "import os\n",
    "from tqdm.notebook import tqdm\n",
    "import networkx as nx\n",
    "import numpy as np\n",
    "import scipy.sparse as sp\n",
    "# from nltk.tokenize.punkt import PunktSentenceTokenizer\n",
    "from sklearn.feature_extraction.text import TfidfTransformer, CountVectorizer\n",
    "from deep_translator import GoogleTranslator"
   ]
  },
  {
   "cell_type": "code",
   "execution_count": 66,
   "id": "e4343ee2-4d17-49b4-9980-e76a0955e6f9",
   "metadata": {},
   "outputs": [],
   "source": [
    "def summarize_textrank(sentences):\n",
    "    # sentence_tokenizer = PunktSentenceTokenizer()\n",
    "    # sentences = sentence_tokenizer.tokenize(document)\n",
    "\n",
    "    bow_matrix = CountVectorizer().fit_transform(sentences)\n",
    "    normalized = TfidfTransformer().fit_transform(bow_matrix)\n",
    "\n",
    "    similarity_graph = normalized * normalized.T\n",
    "    sparse_matrix = sp.csr_matrix(similarity_graph)\n",
    "    nx_graph = nx.Graph(sparse_matrix)\n",
    "    scores = nx.pagerank(nx_graph)\n",
    "    sentence_array = sorted(((scores[i], s) for i, s in enumerate(sentences)), reverse=True)\n",
    "    \n",
    "    sentence_array = np.asarray(sentence_array)\n",
    "    \n",
    "    fmax = float(sentence_array[0][0])\n",
    "    fmin = float(sentence_array[len(sentence_array) - 1][0])\n",
    "    \n",
    "    temp_array = []\n",
    "    for i in range(0, len(sentence_array)):\n",
    "        if fmax - fmin == 0:\n",
    "            temp_array.append(0)\n",
    "        else:\n",
    "            temp_array.append((float(sentence_array[i][0]) - fmin) / (fmax - fmin))\n",
    "\n",
    "    threshold = (sum(temp_array) / len(temp_array)) + 0.2\n",
    "    \n",
    "    sentence_list = []\n",
    "\n",
    "    for i in range(0, len(temp_array)):\n",
    "        if temp_array[i] > threshold:\n",
    "            sentence_list.append(sentence_array[i][1])\n",
    "\n",
    "    seq_list = []\n",
    "    for sentence in sentences:\n",
    "        if sentence in sentence_list:\n",
    "            seq_list.append(sentence)\n",
    "    return seq_list"
   ]
  },
  {
   "cell_type": "code",
   "execution_count": 67,
   "id": "7f5284f3",
   "metadata": {},
   "outputs": [],
   "source": [
    "def split_long_sentence(sentence, max_length=3000):\n",
    "    parts = []\n",
    "    for i in range(0, len(sentence), max_length):\n",
    "        part = sentence[i:i + max_length]\n",
    "        parts.append(part)\n",
    "\n",
    "    return parts\n",
    "\n",
    "def convertToHindi(sentences):\n",
    "    hindi = []\n",
    "    for sentence_array in sentences:\n",
    "        sentence = ''\n",
    "        hindiText=''\n",
    "        for i in range(len(sentence_array)):\n",
    "            sentence = sentence + sentence_array[i]\n",
    "        if len(sentence)>2000:\n",
    "            small_sentences = split_long_sentence(sentence, max_length=2000)\n",
    "            hindiPart = ''\n",
    "            for i in range(len(small_sentences)):\n",
    "                current_translate = GoogleTranslator(source='en', target='hi').translate(small_sentences[i])\n",
    "                hindiPart = hindiPart + current_translate\n",
    "        else:\n",
    "            hindiPart = GoogleTranslator(source='en', target='hi').translate(sentence)\n",
    "        hindiText=hindiText + hindiPart\n",
    "        hindi.append(hindiText)\n",
    "    return hindi"
   ]
  },
  {
   "cell_type": "code",
   "execution_count": 68,
   "id": "0004a573",
   "metadata": {},
   "outputs": [
    {
     "name": "stdout",
     "output_type": "stream",
     "text": [
      "['अभियोजन कथानक संक्षेप में इस प्रकार है कि वादी मुकदमा लक्ष्मीनरायन ने थाना शाहगंज <नाम> दिनाक 09.08.2020 को इस आशय की तहरीर दी किउसका स्कूटर मेस्ट्रो रंग स्काई ब्लू नम्बर यूपी.80 डी.डी.2730 दिनांक 22.07.2020 कोरात्रि 9.30 बजे उसके निवास <नाम> ताला लगा खड़ी थी, तभी समय करीब 10 बजेउसने <नाम> तो उसके उक्त स्कूटर को अज्ञात चोर चोरी करके ले गया है', 'अभियुक्त के विद्वान अधिवक्ता द्वारा जमानत प्रार्थनापत्र/ शपथपत्र मेंकथन किया गया कि आवेदक/ अभियुक्त ने कोई अपराध कारित नहीं किया है तथाउसे झूंठा फंसाया गया है', 'आवेदक / अभियुक्त से अपराध से संबंधित कोई बरामदगीनहीं है', 'आवेदक / अभियुक्त का उक्त अपराध में न्यायालय में यह प्रथम जमानत्रार्थनापत्र है, इसके अलावा आवेदक / अभियुक्त का किसी अन्य न्यायालय में कोईजमानत प्रार्थनापत्र विचाराधीन नहीं है']\n"
     ]
    },
    {
     "data": {
      "application/vnd.jupyter.widget-view+json": {
       "model_id": "f7ddc38d1dda4fe19d8e8918bb49c68e",
       "version_major": 2,
       "version_minor": 0
      },
      "text/plain": [
       "  0%|          | 0/2 [00:00<?, ?it/s]"
      ]
     },
     "metadata": {},
     "output_type": "display_data"
    }
   ],
   "source": [
    "input_path=\"./data/summary/\"\n",
    "output_path=\"./data/summary_results/\"\n",
    "if os.path.exists(output_path) == False:\n",
    "    os.mkdir(output_path)\n",
    "\n",
    "data = pd.read_csv(f'{input_path}data.csv')\n",
    "data = data.head(2)\n",
    "sentences = data['sentences'].apply(eval)\n",
    "sentences_english = data['sentences_english'].apply(eval)\n",
    "\n",
    "summary=[]\n",
    "summary_english=[]\n",
    "print(summarize_textrank(sentences[0]))\n",
    "for i in tqdm(range(len(sentences))):\n",
    "    summary.append(summarize_textrank( sentences[i]) ) \n",
    "    summary_english.append([convertToHindi(summarize_textrank( sentences_english[i]) )])\n",
    "\n",
    "data['summary'] = summary\n",
    "data['summary_english'] = summary_english\n",
    "\n",
    "data.to_csv(f'{output_path}textRank.csv', index=False)\n"
   ]
  }
 ],
 "metadata": {
  "kernelspec": {
   "display_name": "HLDC",
   "language": "python",
   "name": "hldc"
  },
  "language_info": {
   "codemirror_mode": {
    "name": "ipython",
    "version": 3
   },
   "file_extension": ".py",
   "mimetype": "text/x-python",
   "name": "python",
   "nbconvert_exporter": "python",
   "pygments_lexer": "ipython3",
   "version": "3.10.12"
  }
 },
 "nbformat": 4,
 "nbformat_minor": 5
}
