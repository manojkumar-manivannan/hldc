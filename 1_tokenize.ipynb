{
 "cells": [
  {
   "cell_type": "code",
   "execution_count": 31,
   "metadata": {},
   "outputs": [],
   "source": [
    "import os\n",
    "import json\n",
    "import numpy as np\n",
    "import pandas as pd\n",
    "import torch\n",
    "from tqdm.notebook import tqdm \n",
    "\n",
    "from nltk.tokenize import word_tokenize\n",
    "from nltk.stem import WordNetLemmatizer, PorterStemmer\n",
    "from indicnlp.tokenize import indic_tokenize\n",
    "from nltk.corpus import stopwords\n",
    "\n",
    "from deep_translator import GoogleTranslator"
   ]
  },
  {
   "cell_type": "code",
   "execution_count": 32,
   "metadata": {},
   "outputs": [],
   "source": [
    "def split_long_sentence(sentence, max_length=3000):\n",
    "    parts = []\n",
    "    for i in range(0, len(sentence), max_length):\n",
    "        part = sentence[i:i + max_length]\n",
    "        parts.append(part)\n",
    "\n",
    "    return parts"
   ]
  },
  {
   "cell_type": "code",
   "execution_count": 33,
   "metadata": {},
   "outputs": [],
   "source": [
    "def convertToEnglish(sentences):\n",
    "    eng = []\n",
    "    for sentence_array in sentences:\n",
    "        sentence = ''\n",
    "        engText=''\n",
    "        for i in range(len(sentence_array)):\n",
    "            sentence = sentence + sentence_array[i]\n",
    "        if len(sentence)>2000:\n",
    "            small_sentences = split_long_sentence(sentence, max_length=2000)\n",
    "            engPart = ''\n",
    "            for i in range(len(small_sentences)):\n",
    "                current_translate = GoogleTranslator(source='hi', target='en').translate(small_sentences[i])\n",
    "                engPart = engPart + current_translate\n",
    "        else:\n",
    "            engPart = GoogleTranslator(source='hi', target='en').translate(sentence)\n",
    "        engText=engText +engPart\n",
    "        eng.append(engText)\n",
    "    return eng"
   ]
  },
  {
   "cell_type": "code",
   "execution_count": 34,
   "metadata": {},
   "outputs": [],
   "source": [
    "stop=open('stopwords/hindi.txt')\n",
    "hindi_stop_words=[]\n",
    "for x in stop:\n",
    "    hindi_stop_words.append(x.strip(\"\\n\"))\n",
    "\n",
    "def tokenize_hindi(sentence):\n",
    "    tokens = indic_tokenize.trivial_tokenize(sentence, lang='hi')\n",
    "    \n",
    "    filtered_tokens = [token for token in tokens if token not in hindi_stop_words]\n",
    "\n",
    "    return filtered_tokens\n",
    "\n",
    "english_stop_words = set(stopwords.words('english'))\n",
    "def tokenize_english(sentence):\n",
    "    tokens = word_tokenize(sentence)\n",
    "    \n",
    "    filtered_tokens = [token for token in tokens if token not in english_stop_words]\n",
    "    \n",
    "    lemmatizer = WordNetLemmatizer()\n",
    "    lemmatized_tokens = [lemmatizer.lemmatize(token) for token in filtered_tokens]\n",
    "    \n",
    "    stemmer = PorterStemmer()\n",
    "    stemmed_tokens = [stemmer.stem(token) for token in lemmatized_tokens]\n",
    "\n",
    "    stemmed_tokens = [token for token in stemmed_tokens if token.isalpha()]\n",
    "    \n",
    "    return stemmed_tokens"
   ]
  },
  {
   "cell_type": "code",
   "execution_count": 35,
   "metadata": {},
   "outputs": [],
   "source": [
    "def process(file,sampleCount):\n",
    "    print(f\"Current file:{file}\")\n",
    "    with open(file) as f:\n",
    "        data = json.load(f)\n",
    "    df = pd.DataFrame(data)\n",
    "\n",
    "    df=df.transpose()\n",
    "    df = df.head(sampleCount)\n",
    "\n",
    "    facts_and_arguments = []\n",
    "    for i, row in df.iterrows():\n",
    "        facts_and_arguments.append(df.loc[i]['segments']['facts-and-arguments'])\n",
    "    df['facts-and-arguments'] = facts_and_arguments\n",
    "    \n",
    "    \n",
    "\n",
    "    engSentencesCollection = []\n",
    "    sentencesCollection =[]\n",
    "    tokensCollection = []\n",
    "    engTokensCollection = []\n",
    "    judgeOpinionCollection = []\n",
    "    for i, row in tqdm(df.iterrows(),total=len(df)):\n",
    "        judge_sentences=[]\n",
    "        sentences=[]\n",
    "\n",
    "        paras = df.loc[i]['judge-opinion']\n",
    "        for para in paras:\n",
    "            sent = para.split('।')\n",
    "            sent = [i for i in sent if len(i)!=0 and i!=' ']\n",
    "            judge_sentences.extend(sent)\n",
    "        \n",
    "        paras = df.loc[i]['facts-and-arguments']\n",
    "        for para in paras:\n",
    "            sent = para.split('।')\n",
    "            sent = [i for i in sent if len(i)!=0 and i!=' ']\n",
    "            sentences.extend(sent)\n",
    "        sentences = [i.strip() for i in sentences]\n",
    "\n",
    "        english_sentences = convertToEnglish(sentences)\n",
    "        tokens = [tokenize_hindi(sentence ) for sentence in sentences]\n",
    "        english_tokens = [tokenize_english(sentence ) for sentence in english_sentences]\n",
    "        \n",
    "        judgeOpinionCollection.append(judge_sentences)\n",
    "        tokensCollection.append(tokens)\n",
    "        sentencesCollection.append(sentences)\n",
    "        engTokensCollection.append(english_tokens)\n",
    "        engSentencesCollection.append(english_sentences)\n",
    "\n",
    "    df.drop(columns=['segments','district','case_number'],inplace=True)\n",
    "    df['sentences'] = sentencesCollection\n",
    "    df['tokens'] = tokensCollection\n",
    "    df['english_tokens'] = engTokensCollection\n",
    "    df['sentences_english'] = engSentencesCollection\n",
    "    df['judge-opinion'] = judgeOpinionCollection\n",
    "    return df"
   ]
  },
  {
   "cell_type": "code",
   "execution_count": 36,
   "metadata": {},
   "outputs": [
    {
     "name": "stdout",
     "output_type": "stream",
     "text": [
      "Current file:./data/raw/test.json\n"
     ]
    },
    {
     "data": {
      "application/vnd.jupyter.widget-view+json": {
       "model_id": "487da16480124503ae9fa2517200f035",
       "version_major": 2,
       "version_minor": 0
      },
      "text/plain": [
       "  0%|          | 0/1 [00:00<?, ?it/s]"
      ]
     },
     "metadata": {},
     "output_type": "display_data"
    },
    {
     "name": "stdout",
     "output_type": "stream",
     "text": [
      "['जमानत प्रार्थनापत्र के समर्थन में अभियुक्त के पैरोकार शरीफ उर्फशफीक ने शपथ पत्र प्रस्तुत किया है', 'अभियोजन कथानक संक्षेप में इस प्रकार है कि वादी मुकदमा लक्ष्मीनरायन ने थाना शाहगंज <नाम> दिनाक 09.08.2020 को इस आशय की तहरीर दी किउसका स्कूटर मेस्ट्रो रंग स्काई ब्लू नम्बर यूपी.80 डी.डी.2730 दिनांक 22.07.2020 कोरात्रि 9.30 बजे उसके निवास <नाम> ताला लगा खड़ी थी, तभी समय करीब 10 बजेउसने <नाम> तो उसके उक्त स्कूटर को अज्ञात चोर चोरी करके ले गया है', 'उसकेपड़ौस में लगे सी.सी.टी.वी.कैमरे में देखने <नाम> तीन अज्ञात चोर 9.54 पी.एम. <नाम> स्कूटरमें चाबी लगाकर चोरी करके स्कूटर ले जाते दिखाई <नाम> रहे थे', 'फुटेज की क्लिपउसके पास मौजूद है', 'इस घटना की जानकारी उसने तत्काल 112 नं0 <नाम> <नाम> दीशी', 'काफी खोजबीन करने <नाम> उसकी उक्त स्कूटी नहीं <नाम> है', 'वादी मुकदमा की उक्त तहरीर के आधार <नाम> थाना शाहगंज <नाम> अज्ञातके विरूद्ध मु0अ0सं0 3612020 अंतर्गत <नाम> 379 भा0द0सं0 पंजीकृत हुआ', '<नाम> मेंप्रकरण में अभियुक्त के पकड़े जाने <नाम> <नाम> 411 भा0द0सं0 की बढोत्तरी की गयी है', 'अभियुक्त के विद्वान अधिवक्ता द्वारा जमानत प्रार्थनापत्र/ शपथपत्र मेंकथन किया गया कि आवेदक/ अभियुक्त ने कोई अपराध कारित नहीं किया है तथाउसे झूंठा फंसाया गया है', 'आवेदक / अभियुक्त से अपराध से संबंधित कोई बरामदगीनहीं है', 'बरामदगी व गिरफूतारी का कोई जनसाक्षी नहीं है', 'वह प्रथम सूचना रिपोर्टमें नामित नहीं है', 'घटना दिनांक 22.07.2020 की बताई गयी है, जबकि प्रथम सूचनारिपोर्ट दिनांक 09.08.2020 को दर्ज करायी गयी है तथा विलम्ब का कोई <नाम> नहींदर्शाया गया है', 'आवेदक / अभियुक्त का कोई आपराधिक इतिहास नहीं है', '—_ 2 —_आवेदक / अभियुक्त दिनांक 12.08.2020 से जिला कारागार में निरूद्ध है', 'सह-अभियुक्तगण तौसिफ की जमानत इस न्यायालय से तथा शहनवाज कीजमानत अपर सत्र न्यायाधीश, कोर्ट सं0०-5, <नाम> के न्यायालय से स्वीकृत होचुकी है', 'आवेदक / अभियुक्त का उक्त अपराध में न्यायालय में यह प्रथम जमानत्रार्थनापत्र है, इसके अलावा आवेदक / अभियुक्त का किसी अन्य न्यायालय में कोईजमानत प्रार्थनापत्र विचाराधीन नहीं है', 'इन्हीं आधारों <नाम> जमानत स्वीकार कियेजाने की <नाम> की गयी', 'अभियोजन की ओर से विद्वान सहायक जिला शासकीय अधिवक्ता,(फौजदारी) द्वारा जमानत प्रार्थनापत्र का विरोध किया गया है']\n",
      "Current file:./data/raw/train.json\n"
     ]
    },
    {
     "data": {
      "application/vnd.jupyter.widget-view+json": {
       "model_id": "d9c0b0d48c59459aac1f003ff255e6f9",
       "version_major": 2,
       "version_minor": 0
      },
      "text/plain": [
       "  0%|          | 0/1 [00:00<?, ?it/s]"
      ]
     },
     "metadata": {},
     "output_type": "display_data"
    },
    {
     "name": "stdout",
     "output_type": "stream",
     "text": [
      "['अग्रिम जमानत प्रार्थनापत्र के समर्थन में प्रार्थी, अभियुक्त <नाम> <नाम> शर्माका शपथपत्र प्रस्तुत किया गया है कि जिसमें यह वर्णित है कि अभियुक्तगण का यह प्रथमअग्रिम जमानत प्रार्थना पत्र है, अन्य कोई अग्रिम जमानत प्रार्थनापत्र किसी अन्य न्यायालय यामाननीय उच्च न्यायालय में विचाराधीन नहीं है', 'अभियोजन कथानक सक्षेंप में इस प्रकार है कि वादी <नाम> <नाम> के द्वाराथाना खेरागढ <नाम> <नाम> तहरीर इस आशय की दी गईं कि-दिनांक 20.07.214 को समयकरीब 09.00 बजे वादी के मकान के सामने विपक्षी द्वारा करीब 50 मीटर की दूरी परसमरसेविल का वोरिंग <नाम> रहा था', 'वादी ने <नाम> किया कि यहयू <नाम> उसके हैंडपम्प कावोरिग हैं इसी बात से क्षुब्थ होकर विपक्षी राजवीर, गोकुल, <नाम> एक साथ वादी के घर परआ धमके, वादी के ऊपर गोकुल द्वारा लोहे की सरिया से प्रहार किया, लेकिन बीच में वादीके पिता <नाम> <नाम> उक्त सरिया को पकडा, सरिया छूट जाने <नाम> पुनः सरिया से प्रहारवादी के पिता रोशल <नाम> <नाम> ही <नाम> दिया', 'जिससे सिर फट गया', 'सिर में काफी घाव होगया', 'शोरगुल सुनकर मौहल्ले वाले आ गये', 'इतने में उक्त विपक्षी फरार हो गये', 'वादी नेअपने पिता को <नाम> हास्पीटल में भेज दिया', 'दौरान उपचार उनकी अस्पताल में मृत्यु होगई', 'उक्त तहरीर के आधार <नाम> अभियुक्तगण राजवीर, गोकुल व <नाम> के विरूद्धमु0अ0सं० 194 / 2014 धारा-304 भा०दं0सं० थाना खेरागढ <नाम> <नाम> मुकदमा पंजीकृतहुआ', 'विवेचना के उपरान्त अभियुक्त <नाम> उर्फ जनका के विरूद्ध <नाम> 304 भा०द0सं0 मेंआरोपपत्र प्रेषित किया गया', 'साक्ष्य आने <नाम> <नाम> 319 द0प्र0सं0 के अर्न्तगत दिनांक 12.02.2024 को Bail Application/3524/2021 -Rajveer Vs. UP State —2— अभियुक्तगण राजवीर, गोकुल व <नाम> को <नाम> उर्फ जनका के विचारण में तलबकिया गया', 'प्रार्थी / अभियुक्तगण के विद्वान अधिवक्ता द्वारा तर्क प्रस्तुत किया गया हैकि अभियुक्तगण को झूठा फंसाया गया है, उन्होने कोई अपराध कारित नहीं किया है, वेनिर्दोष हैं', 'यह भी तर्क किया गया कि अभियुक्तगण के नाम प्रथम सूचना रिपोर्ट दर्जहुई', 'विवेचना में अभियुक्तगण के विरूद्ध साक्ष्य <नाम> पाते हुए आरोपपत्र प्रेषित नहीं कियागया', 'अभियुक्तगण के विरूद्ध किसी भी प्रकार का कोई साक्ष्य नहीं है', '<नाम> ही अपराध मेंसंलिप्तता है', 'अभियुक्तगण द्वारा किसी प्रकार की चोट कारित नहीं की गई है', 'अभियुक्तगण को पुलिस गिरफ्तार करना चाहती है, वे अग्रिम जमानत देने को तैयार हैं', 'अतः: प्रार्थी / अभियुक्तगण द्वारा अग्रिम जमानत <नाम> मुक्त किये जाने की <नाम> की गई', 'विद्वान सहायक जिला शासकीय अधिवक्ता फौजदारी ने अग्रिम जमानतप्रार्थनापत्र का विरोध करते हुये कथन किया है कि अभियुक्तगण को इस मामले की पूर्णजानकारी है और न्यायालय में विचारण <नाम> आरोप पत्र दाखिल किया गया, तदोपरान्तसाक्ष्य आने <नाम> अभियुक्तगण को <नाम> 319 द0प्र0सं० के अर्न्तगत विचारण <नाम> तलबकिया गया है', 'अभियुक्तगण विचारण में उपस्थित नहीं हो रहे हैं', 'अग्रिम जमानत काकोई आधार नहीं है', 'अतः अग्रिम जमानत प्रार्थनापत्र को निरस्त किये जाने की याचनाकी गई']\n",
      "Current file:./data/raw/val.json\n"
     ]
    },
    {
     "data": {
      "application/vnd.jupyter.widget-view+json": {
       "model_id": "c0c2c64ad90c4d159e40d50309ee91d7",
       "version_major": 2,
       "version_minor": 0
      },
      "text/plain": [
       "  0%|          | 0/1 [00:00<?, ?it/s]"
      ]
     },
     "metadata": {},
     "output_type": "display_data"
    },
    {
     "name": "stdout",
     "output_type": "stream",
     "text": [
      "['जमानत प्रार्थना पत्र प्रार्थी/अभियुक्त की मौसी व पैरोकारश्रीसती भगवान <नाम> चाहर के शपथ पत्र से समर्थित है', 'संक्षेप में अभियोजन कथानक के अनुसार वादी मुकदमाविश्वनाथ द्वारा थाने <नाम> प्रथम सूचना रिपोर्ट इस आशय की दर्ज करायी गयीकि दिनाक 01.10.2019 को <नाम> को किरावली से ट्रक संख्या-आरo०जे011/ जी0बी० 2738 से सैंया जा रहा था कि ग्राम मोरी के पास समय 11:30 बजे <नाम> को मोटरसाईकिल सवार तीन लड़कों ने उसके ट्रक से उसकामोबाइल ओटो ए३7 छीन लिया और मोटरसाईकिल संख्या-यूएपी0 80/ई0सी0 5872 से भाग गए हैं', 'प्रार्थी / अभियुक्त की ओर से विद्वान अधिवक्ता द्वारा यह कहागया है कि प्रार्थी को मामले में झूठा फंसाया गया है, उसने कोई अपराध नहींकिया है, वह निर्दोष है', 'प्रार्थी का नाम दौरान विवचेना <नाम> में आया है', '्रार्शी दिनाक 25.11.2019 से जिला कारागार में निरूद्ध है', 'प्रार्थी प्रथम सूचनारिपोर्ट में नामजद नहीं है', 'प्रार्थी से कोई बरामदगी नहीं है, झूठी बरामदगी (2)न्यायालय विशेष न्यायाधीश (दएप्र0कषेत्र)/अपर सत्र न्यायाधीश, न्यायालय संख्या-03, आगरा', 'जमानत प्रार्थना पत्र संख्या : 7218/2019भूरा बनाम राज्यदर्शित की गयी है', '<नाम> अभियुक्त <नाम> की जमानत दिनांक 04.12.2019को स्वीकार हो चुकी है', 'अभियुक्त का यह प्रथम जमानत प्रार्थना पत्र है अन्यकोई जमानत प्रार्थना पत्र माननीय उच्च न्यायालय में लम्बित नहीं है', 'उपरोक्त आधारों <नाम> प्ररार्थी/ अभियुक्त को जमानत <नाम> <नाम> किए जानेकी <नाम> की गयी है', 'विद्वान वरिष्ठ अभियोजन <नाम> <नाम> वंशराज <नाम> द्वाराजमानत का विरोध करते हुए कथन किया गया कि प्रार्थी / अभियुक्त द्वाराअन्य के साथ मिलकर वादी मुकदमा का मोबाइल लूटा गया है', 'सहअभियुक्त से बरामदगी भी है', 'उपरोक्त आधारों <नाम> जमानत प्रार्थना पत्रनिरस्त किए जाने की <नाम> की गयी']\n"
     ]
    }
   ],
   "source": [
    "base_path = \"./data/raw/\"\n",
    "write_path = \"./data/summary/\"\n",
    "files = os.listdir(base_path)\n",
    "try:\n",
    "    os.mkdir(write_path)\n",
    "except:\n",
    "    pass\n",
    "files = [f for f in files if \".json\" in f]\n",
    "\n",
    "dfs=[]\n",
    "\n",
    "sampleCount = [1,1,1]\n",
    "for file,count in zip(files,sampleCount):\n",
    "    dfs.append(process(base_path+file, count))\n",
    "\n",
    "df = pd.concat(dfs, ignore_index=True)\n",
    "df.to_csv(f\"{write_path}/data.csv\",index=False)"
   ]
  }
 ],
 "metadata": {
  "kernelspec": {
   "display_name": "HLDC",
   "language": "python",
   "name": "hldc"
  },
  "language_info": {
   "codemirror_mode": {
    "name": "ipython",
    "version": 3
   },
   "file_extension": ".py",
   "mimetype": "text/x-python",
   "name": "python",
   "nbconvert_exporter": "python",
   "pygments_lexer": "ipython3",
   "version": "3.10.12"
  }
 },
 "nbformat": 4,
 "nbformat_minor": 2
}
