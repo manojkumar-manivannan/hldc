{
 "cells": [
  {
   "cell_type": "code",
   "execution_count": 1,
   "metadata": {},
   "outputs": [],
   "source": [
    "import os \n",
    "import pandas as pd\n",
    "import numpy as np\n",
    "from tqdm.notebook import tqdm \n",
    "\n",
    "from sklearn.metrics.pairwise import cosine_similarity\n",
    "from sklearn.cluster import KMeans\n",
    "\n",
    "from sentence_transformers import SentenceTransformer, util\n",
    "modelHindi = SentenceTransformer('sentence-transformers/paraphrase-multilingual-mpnet-base-v2')\n",
    "modelEnglish = SentenceTransformer('sentence-transformers/paraphrase-MiniLM-L6-v2')\n",
    "from deep_translator import GoogleTranslator"
   ]
  },
  {
   "cell_type": "code",
   "execution_count": 2,
   "metadata": {},
   "outputs": [],
   "source": [
    "def summarize_kmeans(sentences,hindi=False):\n",
    "    if hindi:\n",
    "        model=modelHindi\n",
    "    else:\n",
    "        model=modelEnglish\n",
    "    embeddings = [model.encode(sentence) for sentence in sentences]\n",
    "    k=max(1,len(sentences)//4)\n",
    "    kmeans = KMeans(n_clusters=k, n_init=k,random_state=0).fit(embeddings)\n",
    "    cluster_centers = kmeans.cluster_centers_\n",
    "    cluster_indices = kmeans.predict(embeddings)\n",
    "\n",
    "    summary_sentences = []\n",
    "    for i in range(k):\n",
    "        cluster = [sentences[j] for j in range(len(sentences)) if cluster_indices[j] == i]\n",
    "        cluster_embeddings = [embeddings[j] for j in range(len(sentences)) if cluster_indices[j] == i]\n",
    "        centroid = cluster_centers[i]\n",
    "        closest_sentence_idx = min(range(len(cluster_embeddings)), key=lambda x: cosine_similarity([centroid], [cluster_embeddings[x]]))\n",
    "        summary_sentences.append(cluster[closest_sentence_idx])\n",
    "    return summary_sentences"
   ]
  },
  {
   "cell_type": "code",
   "execution_count": 3,
   "metadata": {},
   "outputs": [],
   "source": [
    "def split_long_sentence(sentence, max_length=3000):\n",
    "    parts = []\n",
    "    for i in range(0, len(sentence), max_length):\n",
    "        part = sentence[i:i + max_length]\n",
    "        parts.append(part)\n",
    "\n",
    "    return parts\n",
    "\n",
    "def convertToHindi(sentences):\n",
    "    hindi = []\n",
    "    for sentence_array in sentences:\n",
    "        sentence = ''\n",
    "        hindiText=''\n",
    "        for i in range(len(sentence_array)):\n",
    "            sentence = sentence + sentence_array[i]\n",
    "        if len(sentence)>2000:\n",
    "            small_sentences = split_long_sentence(sentence, max_length=2000)\n",
    "            hindiPart = ''\n",
    "            for i in range(len(small_sentences)):\n",
    "                current_translate = GoogleTranslator(source='en', target='hi').translate(small_sentences[i])\n",
    "                hindiPart = hindiPart + current_translate\n",
    "        else:\n",
    "            hindiPart = GoogleTranslator(source='en', target='hi').translate(sentence)\n",
    "        hindiText=hindiText + hindiPart\n",
    "        hindi.append(hindiText)\n",
    "    return hindi"
   ]
  },
  {
   "cell_type": "code",
   "execution_count": 4,
   "metadata": {},
   "outputs": [
    {
     "data": {
      "application/vnd.jupyter.widget-view+json": {
       "model_id": "b653b8b5370245349fb64022598cb291",
       "version_major": 2,
       "version_minor": 0
      },
      "text/plain": [
       "  0%|          | 0/1000 [00:00<?, ?it/s]"
      ]
     },
     "metadata": {},
     "output_type": "display_data"
    },
    {
     "name": "stdout",
     "output_type": "stream",
     "text": [
      "huggingface/tokenizers: The current process just got forked, after parallelism has already been used. Disabling parallelism to avoid deadlocks...\n",
      "To disable this warning, you can either:\n",
      "\t- Avoid using `tokenizers` before the fork if possible\n",
      "\t- Explicitly set the environment variable TOKENIZERS_PARALLELISM=(true | false)\n"
     ]
    }
   ],
   "source": [
    "input_path=\"./data/summary/\"\n",
    "output_path=\"./data/summary_results/\"\n",
    "if os.path.exists(output_path) == False:\n",
    "    os.mkdir(output_path)\n",
    "\n",
    "data = pd.read_csv(f'{input_path}data.csv')\n",
    "sentences = data['sentences'].apply(eval)\n",
    "sentences_english = data['sentences_english'].apply(eval)\n",
    "summary=[]\n",
    "summary_english=[]\n",
    "for i in tqdm(range(len(sentences))):\n",
    "    summary.append(summarize_kmeans(sentences[i],hindi=True))\n",
    "    summary_english.append(convertToHindi(summarize_kmeans(sentences_english[i],hindi=False)))\n",
    "\n",
    "data['summary'] = summary\n",
    "data['summary_english'] = summary_english\n",
    "data.to_csv(f'{output_path}kmeans.csv', index=False)"
   ]
  }
 ],
 "metadata": {
  "kernelspec": {
   "display_name": "HLDC",
   "language": "python",
   "name": "hldc"
  },
  "language_info": {
   "codemirror_mode": {
    "name": "ipython",
    "version": 3
   },
   "file_extension": ".py",
   "mimetype": "text/x-python",
   "name": "python",
   "nbconvert_exporter": "python",
   "pygments_lexer": "ipython3",
   "version": "3.10.12"
  }
 },
 "nbformat": 4,
 "nbformat_minor": 2
}
