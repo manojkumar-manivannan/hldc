{
 "cells": [
  {
   "cell_type": "code",
   "execution_count": 1,
   "metadata": {},
   "outputs": [],
   "source": [
    "import os \n",
    "import pandas as pd\n",
    "import numpy as np\n",
    "from tqdm.notebook import tqdm \n",
    "import math\n",
    "from deep_translator import GoogleTranslator\n",
    "from transformers import AutoTokenizer, AutoModelWithLMHead , AutoModelForSeq2SeqLM"
   ]
  },
  {
   "cell_type": "code",
   "execution_count": 2,
   "metadata": {},
   "outputs": [
    {
     "name": "stderr",
     "output_type": "stream",
     "text": [
      "/Users/manoj/miniconda3/envs/hldc/lib/python3.10/site-packages/transformers/models/auto/modeling_auto.py:1468: FutureWarning: The class `AutoModelWithLMHead` is deprecated and will be removed in a future version. Please use `AutoModelForCausalLM` for causal language models, `AutoModelForMaskedLM` for masked language models and `AutoModelForSeq2SeqLM` for encoder-decoder models.\n",
      "  warnings.warn(\n"
     ]
    }
   ],
   "source": [
    "tokenizer=AutoTokenizer.from_pretrained('T5-base')\n",
    "model=AutoModelWithLMHead.from_pretrained('T5-base', return_dict=True)\n",
    "def summarize_transformer_english(sentences):\n",
    "    inputs=tokenizer.encode(\"sumarize: \" +\"\".join(sentences),return_tensors='pt', max_length=512, truncation=True)\n",
    "    output = model.generate(inputs, min_length=80, max_length=100)\n",
    "    summary=tokenizer.decode(output[0])\n",
    "    summary=summary.replace('<pad>','')\n",
    "    summary=summary.replace('</s>','')\n",
    "    summary=summary.replace('<unk>','<')\n",
    "    return summary\n",
    "\n",
    "tokenizer_hindi = AutoTokenizer.from_pretrained(\"rahular/varta-t5\")\n",
    "model_hindi = AutoModelForSeq2SeqLM.from_pretrained(\"rahular/varta-t5\")\n",
    "\n",
    "def summarize_transformer_hindi(sentences):\n",
    "    inputs=tokenizer_hindi.encode(\"summarize: \" +\"\".join(sentences),return_tensors='pt', max_length=512, truncation=True)\n",
    "    output = model_hindi.generate(inputs, min_length=80, max_length=100)\n",
    "    summary=tokenizer_hindi.decode(output[0])\n",
    "    summary=summary.replace('<pad>','')\n",
    "    summary=summary.replace('</s>','')\n",
    "    summary=summary.replace('<unk>','<')\n",
    "    summary= summary.strip(' ')\n",
    "    return summary"
   ]
  },
  {
   "cell_type": "code",
   "execution_count": 3,
   "metadata": {},
   "outputs": [],
   "source": [
    "def split_long_sentence(sentence, max_length=3000):\n",
    "    parts = []\n",
    "    for i in range(0, len(sentence), max_length):\n",
    "        part = sentence[i:i + max_length]\n",
    "        parts.append(part)\n",
    "\n",
    "    return parts\n",
    "\n",
    "def convertToHindi(sentences):\n",
    "    hindi = []\n",
    "    for sentence_array in sentences:\n",
    "        sentence = ''\n",
    "        hindiText=''\n",
    "        for i in range(len(sentence_array)):\n",
    "            sentence = sentence + sentence_array[i]\n",
    "        if len(sentence)>2000:\n",
    "            small_sentences = split_long_sentence(sentence, max_length=2000)\n",
    "            hindiPart = ''\n",
    "            for i in range(len(small_sentences)):\n",
    "                current_translate = GoogleTranslator(source='en', target='hi').translate(small_sentences[i])\n",
    "                hindiPart = hindiPart + current_translate\n",
    "        else:\n",
    "            hindiPart = GoogleTranslator(source='en', target='hi').translate(sentence)\n",
    "        hindiText=hindiText + hindiPart\n",
    "        hindi.append(hindiText)\n",
    "    return hindi"
   ]
  },
  {
   "cell_type": "code",
   "execution_count": 4,
   "metadata": {},
   "outputs": [
    {
     "data": {
      "application/vnd.jupyter.widget-view+json": {
       "model_id": "a8b57cd1ec844bdb86ac6b8ace548694",
       "version_major": 2,
       "version_minor": 0
      },
      "text/plain": [
       "  0%|          | 0/1000 [00:00<?, ?it/s]"
      ]
     },
     "metadata": {},
     "output_type": "display_data"
    }
   ],
   "source": [
    "input_path=\"./data/summary/\"\n",
    "output_path=\"./data/summary_results/\"\n",
    "if os.path.exists(output_path) == False:\n",
    "    os.mkdir(output_path)\n",
    "\n",
    "data = pd.read_csv(f'{input_path}data.csv')\n",
    "sentences = data['sentences'].apply(eval)\n",
    "sentences_english = data['sentences_english'].apply(eval)\n",
    "\n",
    "summary=[]\n",
    "summary_english=[]\n",
    "for i in tqdm(range(len(sentences))):\n",
    "    summary.append(summarize_transformer_hindi( sentences[i]))\n",
    "    summary_english.append(convertToHindi((summarize_transformer_english(  sentences_english[0])).split(\".\")))\n",
    "\n",
    "data['summary'] = summary\n",
    "data['summary_english'] = summary_english\n",
    "\n",
    "data.to_csv(f'{output_path}transformer.csv', index=False)"
   ]
  }
 ],
 "metadata": {
  "kernelspec": {
   "display_name": "HLDC",
   "language": "python",
   "name": "hldc"
  },
  "language_info": {
   "codemirror_mode": {
    "name": "ipython",
    "version": 3
   },
   "file_extension": ".py",
   "mimetype": "text/x-python",
   "name": "python",
   "nbconvert_exporter": "python",
   "pygments_lexer": "ipython3",
   "version": "3.10.12"
  }
 },
 "nbformat": 4,
 "nbformat_minor": 2
}
