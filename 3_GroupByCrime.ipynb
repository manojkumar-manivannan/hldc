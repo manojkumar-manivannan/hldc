{
 "cells": [
  {
   "cell_type": "code",
   "execution_count": 5,
   "metadata": {},
   "outputs": [],
   "source": [
    "import pandas as pd\n",
    "\n",
    "input_path=\"./data/prior_case/\"\n",
    "output_path=\"./data/prior_case/groups/\"\n",
    "df = pd.read_csv(f'{input_path}data_crime.csv')\n",
    "\n",
    "grouped = df.groupby('CrimeType')\n",
    "\n",
    "class_dict = {}\n",
    "keywords=['theft','rape','drug','murder','assault']\n",
    "for name, group in grouped:\n",
    "    group.to_csv(f'{output_path}data_{keywords[name]}.csv',index=False)"
   ]
  }
 ],
 "metadata": {
  "kernelspec": {
   "display_name": "HLDC",
   "language": "python",
   "name": "hldc"
  },
  "language_info": {
   "codemirror_mode": {
    "name": "ipython",
    "version": 3
   },
   "file_extension": ".py",
   "mimetype": "text/x-python",
   "name": "python",
   "nbconvert_exporter": "python",
   "pygments_lexer": "ipython3",
   "version": "3.10.12"
  }
 },
 "nbformat": 4,
 "nbformat_minor": 2
}
