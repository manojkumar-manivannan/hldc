{
 "cells": [
  {
   "cell_type": "code",
   "execution_count": 1,
   "metadata": {},
   "outputs": [],
   "source": [
    "from gensim.models import Word2Vec, KeyedVectors\n",
    "word2vec_model_path = './models/GoogleNews-vectors-negative300.bin'\n",
    "model = KeyedVectors.load_word2vec_format(word2vec_model_path, binary=True)\n",
    "from sklearn.metrics.pairwise import cosine_similarity"
   ]
  },
  {
   "cell_type": "code",
   "execution_count": null,
   "metadata": {},
   "outputs": [],
   "source": [
    "import pandas as pd\n",
    "\n",
    "base_path = \"./data/summary/\"\n",
    "write_path = \"./data/prior_case/\"\n",
    "\n",
    "df=pd.read_csv(base_path+\"data.csv\")\n",
    "df=df.head(1000)\n",
    "sentences=df['sentences_english'].apply(eval)\n",
    "print(\" \".join(sentences[0]))\n",
    "tokens=[word_tokenize(\" \".join(i)) for i in sentences]\n",
    "similarity_threshold = 0.5\n",
    "keywords=['theft','rape','drug','murder','assault']\n",
    "keywordVectors=[model[word] for word in keywords]\n",
    "\n",
    "CrimeType=[]\n",
    "for i in tokens:\n",
    "    crimetype=-1\n",
    "    for ind,keyvec in enumerate(keywordVectors):\n",
    "        vectors=[]\n",
    "        for word in i:\n",
    "            try:\n",
    "                word_vector = model[word]\n",
    "                if (len(word_vector)):\n",
    "                    vectors.append(word_vector)\n",
    "            except:\n",
    "                pass\n",
    "        similarities = [cosine_similarity([keyvec], [vec])[0][0] for vec in vectors]\n",
    "        contains_similar_words = any(similarity > similarity_threshold for similarity in similarities)\n",
    "        if contains_similar_words:\n",
    "            crimetype=ind\n",
    "            break\n",
    "    CrimeType.append(crimetype)\n",
    "\n",
    "freqMap={}\n",
    "for i in CrimeType:\n",
    "    if i in freqMap:\n",
    "        freqMap[i]+=1\n",
    "    else:\n",
    "        freqMap[i]=0\n",
    "\n",
    "print(freqMap)\n",
    "\n",
    "df['CrimeType']=CrimeType\n",
    "df.to_csv(f\"{write_path}/data_crime.csv\",index=False)"
   ]
  }
 ],
 "metadata": {
  "kernelspec": {
   "display_name": "HLDC",
   "language": "python",
   "name": "hldc"
  },
  "language_info": {
   "codemirror_mode": {
    "name": "ipython",
    "version": 3
   },
   "file_extension": ".py",
   "mimetype": "text/x-python",
   "name": "python",
   "nbconvert_exporter": "python",
   "pygments_lexer": "ipython3",
   "version": "3.10.12"
  }
 },
 "nbformat": 4,
 "nbformat_minor": 2
}
