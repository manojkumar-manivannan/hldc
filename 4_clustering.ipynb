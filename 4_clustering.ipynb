{
 "cells": [
  {
   "cell_type": "code",
   "execution_count": 25,
   "metadata": {},
   "outputs": [],
   "source": [
    "from sentence_transformers import SentenceTransformer, util\n",
    "import torch\n",
    "model = SentenceTransformer('sentence-transformers/paraphrase-multilingual-mpnet-base-v2')\n",
    "import pandas as pd\n",
    "import os\n",
    "from tqdm.notebook import tqdm"
   ]
  },
  {
   "cell_type": "code",
   "execution_count": 26,
   "metadata": {},
   "outputs": [],
   "source": [
    "def convertToString(list):\n",
    "    return ' '.join(list)\n",
    "def process(input_path,output_path,file):\n",
    "  df=pd.read_csv(f'{input_path}{file}')\n",
    "  df['sentences'] = df['sentences'].apply(eval)\n",
    "  df['sentences'] = df['sentences'].apply(lambda x:' '.join(x))\n",
    "  corpus = df['sentences'].tolist()\n",
    "  corpus_embeddings = model.encode(corpus, convert_to_tensor=True)\n",
    "  prior_cases_ids=[]\n",
    "  prior_cases = []\n",
    "  for i, row in tqdm(df.iterrows(),total=len(df)):\n",
    "    query = df.loc[i]['sentences']\n",
    "    query_embedding = model.encode(query, convert_to_tensor=True)\n",
    "    cos_scores = util.cos_sim(query_embedding, corpus_embeddings,)[0]\n",
    "    top_results = torch.topk(cos_scores, k=4)\n",
    "    document_ids=[]\n",
    "    for score, idx in zip(top_results[0], top_results[1]):\n",
    "      document_ids.append(idx.item())\n",
    "    document_ids=document_ids[1:]\n",
    "    \n",
    "    prior_cases_ids.append(document_ids)\n",
    "    prior_cases.append([corpus[i] for i in document_ids])\n",
    "    \n",
    "  df['prior_cases_ids']=prior_cases_ids\n",
    "  df['prior_cases']=prior_cases\n",
    "  df.to_csv(f\"{output_path}{file}\",index=False)"
   ]
  },
  {
   "cell_type": "code",
   "execution_count": 27,
   "metadata": {},
   "outputs": [
    {
     "data": {
      "application/vnd.jupyter.widget-view+json": {
       "model_id": "830ea66530ff46beaa59c39e8852ad91",
       "version_major": 2,
       "version_minor": 0
      },
      "text/plain": [
       "  0%|          | 0/354 [00:00<?, ?it/s]"
      ]
     },
     "metadata": {},
     "output_type": "display_data"
    },
    {
     "data": {
      "application/vnd.jupyter.widget-view+json": {
       "model_id": "12c66e7c836f494ca51e0afd028c778d",
       "version_major": 2,
       "version_minor": 0
      },
      "text/plain": [
       "  0%|          | 0/353 [00:00<?, ?it/s]"
      ]
     },
     "metadata": {},
     "output_type": "display_data"
    },
    {
     "data": {
      "application/vnd.jupyter.widget-view+json": {
       "model_id": "7bc14b1cfcfa4ab3bbb51c1833edb94e",
       "version_major": 2,
       "version_minor": 0
      },
      "text/plain": [
       "  0%|          | 0/71 [00:00<?, ?it/s]"
      ]
     },
     "metadata": {},
     "output_type": "display_data"
    },
    {
     "data": {
      "application/vnd.jupyter.widget-view+json": {
       "model_id": "d6a1f6771c794e83844033b74dc77cb9",
       "version_major": 2,
       "version_minor": 0
      },
      "text/plain": [
       "  0%|          | 0/75 [00:00<?, ?it/s]"
      ]
     },
     "metadata": {},
     "output_type": "display_data"
    },
    {
     "data": {
      "application/vnd.jupyter.widget-view+json": {
       "model_id": "b4ff9a78bddf474bb23f67b0aba6c292",
       "version_major": 2,
       "version_minor": 0
      },
      "text/plain": [
       "  0%|          | 0/147 [00:00<?, ?it/s]"
      ]
     },
     "metadata": {},
     "output_type": "display_data"
    }
   ],
   "source": [
    "input_path= \"./data/prior_case/groups/\"\n",
    "output_path= \"./data/prior_case/results/\"\n",
    "\n",
    "files=os.listdir(input_path)\n",
    "for file in files:\n",
    "  process(input_path,output_path,file)"
   ]
  }
 ],
 "metadata": {
  "kernelspec": {
   "display_name": "HLDC",
   "language": "python",
   "name": "hldc"
  },
  "language_info": {
   "codemirror_mode": {
    "name": "ipython",
    "version": 3
   },
   "file_extension": ".py",
   "mimetype": "text/x-python",
   "name": "python",
   "nbconvert_exporter": "python",
   "pygments_lexer": "ipython3",
   "version": "3.10.12"
  }
 },
 "nbformat": 4,
 "nbformat_minor": 2
}
