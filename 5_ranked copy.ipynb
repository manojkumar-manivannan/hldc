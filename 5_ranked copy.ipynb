{
 "cells": [
  {
   "cell_type": "code",
   "execution_count": 4,
   "id": "9ec24d1e-1367-4626-b6ec-d66869f9a090",
   "metadata": {},
   "outputs": [],
   "source": [
    "import os\n",
    "import json\n",
    "import numpy as np\n",
    "import pandas as pd\n",
    "import torch\n",
    "from tqdm.notebook import tqdm \n",
    "from sentence_transformers import SentenceTransformer, util\n",
    "model = SentenceTransformer('sentence-transformers/paraphrase-multilingual-mpnet-base-v2')"
   ]
  },
  {
   "cell_type": "code",
   "execution_count": 5,
   "id": "5486921c",
   "metadata": {},
   "outputs": [],
   "source": [
    "def process(df):\n",
    "    ranked_sentences = []\n",
    "    df['sentences'] = df['sentences'].apply(eval)\n",
    "    df['judge-opinion'] = df['judge-opinion'].apply(eval)\n",
    "    for i, row in tqdm(df.iterrows(),total=len(df)):\n",
    "        s1 = df.loc[i]['sentences']\n",
    "        judge_opinion=''\n",
    "        for j in df.loc[i]['judge-opinion']:\n",
    "            judge_opinion=judge_opinion+j\n",
    "        s2 = judge_opinion\n",
    "        e1 = model.encode(s1)\n",
    "        e2 = model.encode(s2)\n",
    "        cos_sim = util.cos_sim(e2, e1)\n",
    "        s1 = np.asarray(s1)\n",
    "        ranks = s1[np.argsort(-1*cos_sim[0].numpy())]\n",
    "        ranked_sentences.append(ranks.tolist())\n",
    "    \n",
    "    df['ranked-sentences'] = ranked_sentences\n",
    "    return df\n"
   ]
  },
  {
   "cell_type": "code",
   "execution_count": 6,
   "id": "af12746b-3933-4d39-beaa-09ca8b858e7d",
   "metadata": {},
   "outputs": [
    {
     "data": {
      "application/vnd.jupyter.widget-view+json": {
       "model_id": "c58fb1fc5c7b4a31a3a219d37fb81dc9",
       "version_major": 2,
       "version_minor": 0
      },
      "text/plain": [
       "  0%|          | 0/1000 [00:00<?, ?it/s]"
      ]
     },
     "metadata": {},
     "output_type": "display_data"
    }
   ],
   "source": [
    "base_path = \"./data/summary/\"\n",
    "write_path = \"./data/summary/\"\n",
    "files = os.listdir(base_path)\n",
    "\n",
    "df=pd.read_csv(f\"{base_path}/data.csv\")\n",
    "\n",
    "final_df=process(df)\n",
    "\n",
    "final_df.to_csv(f\"{write_path}/data_ranked.csv\",index=False)"
   ]
  }
 ],
 "metadata": {
  "kernelspec": {
   "display_name": "HLDC",
   "language": "python",
   "name": "hldc"
  },
  "language_info": {
   "codemirror_mode": {
    "name": "ipython",
    "version": 3
   },
   "file_extension": ".py",
   "mimetype": "text/x-python",
   "name": "python",
   "nbconvert_exporter": "python",
   "pygments_lexer": "ipython3",
   "version": "3.10.12"
  }
 },
 "nbformat": 4,
 "nbformat_minor": 5
}
