{
 "cells": [
  {
   "cell_type": "code",
   "execution_count": 45,
   "id": "9ec24d1e-1367-4626-b6ec-d66869f9a090",
   "metadata": {},
   "outputs": [],
   "source": [
    "import os\n",
    "import json\n",
    "import numpy as np\n",
    "import pandas as pd\n",
    "import torch\n",
    "from tqdm.notebook import tqdm "
   ]
  },
  {
   "cell_type": "code",
   "execution_count": 46,
   "metadata": {},
   "outputs": [],
   "source": [
    "def map_words(sentences, word_mapping):\n",
    "    mapped_sentences = []\n",
    "\n",
    "    for sentence in sentences:\n",
    "        words = sentence.split()\n",
    "        mapped_words = [word_mapping.get(word, word) for word in words]\n",
    "        mapped_sentence = ' '.join(mapped_words)\n",
    "        mapped_sentences.append(mapped_sentence)\n",
    "    return mapped_sentences"
   ]
  },
  {
   "cell_type": "code",
   "execution_count": 47,
   "id": "5486921c",
   "metadata": {},
   "outputs": [],
   "source": [
    "def process(df,dict):\n",
    "    df['sentences']=df['sentences'].apply(lambda x: map_words(x, dict))\n",
    "    return df\n"
   ]
  },
  {
   "cell_type": "code",
   "execution_count": 48,
   "id": "af12746b-3933-4d39-beaa-09ca8b858e7d",
   "metadata": {},
   "outputs": [
    {
     "name": "stdout",
     "output_type": "stream",
     "text": [
      "{'के': 'विद्वान', 'प्रार्थनापत्र': 'अभियुक्त'}\n",
      "0    [जमानत अभियुक्त विद्वान समर्थन में अभियुक्त वि...\n",
      "1    [समर्थन में राजवीर <नाम> का शपथपत्र प्रस्तुत क...\n",
      "Name: sentences, dtype: object\n"
     ]
    }
   ],
   "source": [
    "base_path = \"./data/summary/\"\n",
    "write_path = \"./data/summary/\"\n",
    "files = os.listdir(base_path)\n",
    "\n",
    "df=pd.read_csv(f\"{base_path}/data.csv\")\n",
    "df['sentences']=df['sentences'].apply(eval)\n",
    "dict=json.load(open(f\"./models/dialect_dict.json\",\"r\"))\n",
    "print(dict)\n",
    "final_df=process(df,dict)\n",
    "final_df.to_csv(f\"{write_path}/data_ranked.csv\",index=False)"
   ]
  }
 ],
 "metadata": {
  "kernelspec": {
   "display_name": "HLDC",
   "language": "python",
   "name": "hldc"
  },
  "language_info": {
   "codemirror_mode": {
    "name": "ipython",
    "version": 3
   },
   "file_extension": ".py",
   "mimetype": "text/x-python",
   "name": "python",
   "nbconvert_exporter": "python",
   "pygments_lexer": "ipython3",
   "version": "3.10.12"
  }
 },
 "nbformat": 4,
 "nbformat_minor": 5
}
