{
 "cells": [
  {
   "cell_type": "code",
   "execution_count": 1,
   "metadata": {},
   "outputs": [],
   "source": [
    "import pandas as pd\n",
    "import tqdm.notebook as tq\n",
    "input_path =\"./data/summary_results/\"\n",
    "from indicnlp.tokenize import indic_tokenize\n",
    "\n",
    "def calculate_responsiveness(source_document, generated_summary):\n",
    "    source_tokens = set(indic_tokenize.trivial_tokenize(source_document))\n",
    "    summary_tokens = set(indic_tokenize.trivial_tokenize(generated_summary))\n",
    "    overlapping_unigrams = source_tokens.intersection(summary_tokens)\n",
    "    \n",
    "    if len(source_tokens) > 0:\n",
    "        responsiveness_score = len(overlapping_unigrams) / len(source_tokens) * 100\n",
    "    else:\n",
    "        responsiveness_score = 0\n",
    "    \n",
    "    return responsiveness_score"
   ]
  },
  {
   "cell_type": "code",
   "execution_count": 2,
   "metadata": {},
   "outputs": [
    {
     "name": "stdout",
     "output_type": "stream",
     "text": [
      "LexRank\n",
      "Hindi 84.49%\t English 63.72%\t\n",
      "TextRank\n",
      "Hindi 72.13%\t English 59.21%\t\n",
      "K-Means\n",
      "Hindi 65.43%\t English 57.39%\t\n",
      "Transformer\n",
      "Hindi 42.75%\t English 34.17%\t\n"
     ]
    }
   ],
   "source": [
    "def get_all_files(input_path):\n",
    "  import os\n",
    "  files = os.listdir(input_path)\n",
    "  return files\n",
    "files = get_all_files(input_path)\n",
    "\n",
    "for file in files:\n",
    "  data = pd.read_csv(f'{input_path}{file}')\n",
    "  data['sentences'] = data['sentences'].apply(eval)\n",
    "  data['summary'] = data['summary'].apply(eval)\n",
    "  data['summary_english'] = data['summary_english'].apply(eval)\n",
    "  data['sentences']=data['sentences'].map(lambda x: ' '.join(x))\n",
    "  data['summary'] = data['summary'].map(lambda x: ' '.join(x))\n",
    "  data['summary_english'] = data['summary_english'].map(lambda x: ' '.join(x))\n",
    "  scores = []\n",
    "  scores_english = []\n",
    "  for i in range(len(data)):\n",
    "    scores.append(calculate_responsiveness(data['sentences'][i],data['summary'][i]))\n",
    "    scores_english.append(calculate_responsiveness(data['sentences'][i],data['summary_english'][i]))\n",
    "  score_value = sum(scores)/len(scores)\n",
    "  score_english_value = sum(scores_english)/len(scores_english)\n",
    "  print(f'{file}\\nHindi {score_value}%\\t English {score_english_value}%\\t',end='\\n')"
   ]
  }
 ],
 "metadata": {
  "kernelspec": {
   "display_name": "HLDC",
   "language": "python",
   "name": "hldc"
  },
  "language_info": {
   "codemirror_mode": {
    "name": "ipython",
    "version": 3
   },
   "file_extension": ".py",
   "mimetype": "text/x-python",
   "name": "python",
   "nbconvert_exporter": "python",
   "pygments_lexer": "ipython3",
   "version": "3.10.12"
  }
 },
 "nbformat": 4,
 "nbformat_minor": 2
}
