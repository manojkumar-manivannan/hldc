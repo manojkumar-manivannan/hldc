{
 "cells": [
  {
   "cell_type": "code",
   "execution_count": 3,
   "id": "9ec24d1e-1367-4626-b6ec-d66869f9a090",
   "metadata": {},
   "outputs": [],
   "source": [
    "import os\n",
    "import json\n",
    "import numpy as np\n",
    "import pandas as pd\n",
    "import torch\n",
    "import tqdm\n",
    "\n",
    "from sentence_transformers import SentenceTransformer, util\n",
    "model = SentenceTransformer('sentence-transformers/paraphrase-multilingual-mpnet-base-v2')"
   ]
  },
  {
   "cell_type": "code",
   "execution_count": 4,
   "id": "af12746b-3933-4d39-beaa-09ca8b858e7d",
   "metadata": {},
   "outputs": [
    {
     "name": "stdout",
     "output_type": "stream",
     "text": [
      "Current file:test.json\n"
     ]
    },
    {
     "ename": "KeyError",
     "evalue": "0",
     "output_type": "error",
     "traceback": [
      "\u001b[0;31m---------------------------------------------------------------------------\u001b[0m",
      "\u001b[0;31mKeyError\u001b[0m                                  Traceback (most recent call last)",
      "File \u001b[0;32m~/miniconda3/envs/hldc/lib/python3.10/site-packages/pandas/core/indexes/base.py:3790\u001b[0m, in \u001b[0;36mIndex.get_loc\u001b[0;34m(self, key)\u001b[0m\n\u001b[1;32m   3789\u001b[0m \u001b[39mtry\u001b[39;00m:\n\u001b[0;32m-> 3790\u001b[0m     \u001b[39mreturn\u001b[39;00m \u001b[39mself\u001b[39;49m\u001b[39m.\u001b[39;49m_engine\u001b[39m.\u001b[39;49mget_loc(casted_key)\n\u001b[1;32m   3791\u001b[0m \u001b[39mexcept\u001b[39;00m \u001b[39mKeyError\u001b[39;00m \u001b[39mas\u001b[39;00m err:\n",
      "File \u001b[0;32mindex.pyx:152\u001b[0m, in \u001b[0;36mpandas._libs.index.IndexEngine.get_loc\u001b[0;34m()\u001b[0m\n",
      "File \u001b[0;32mindex.pyx:181\u001b[0m, in \u001b[0;36mpandas._libs.index.IndexEngine.get_loc\u001b[0;34m()\u001b[0m\n",
      "File \u001b[0;32mpandas/_libs/hashtable_class_helper.pxi:7080\u001b[0m, in \u001b[0;36mpandas._libs.hashtable.PyObjectHashTable.get_item\u001b[0;34m()\u001b[0m\n",
      "File \u001b[0;32mpandas/_libs/hashtable_class_helper.pxi:7088\u001b[0m, in \u001b[0;36mpandas._libs.hashtable.PyObjectHashTable.get_item\u001b[0;34m()\u001b[0m\n",
      "\u001b[0;31mKeyError\u001b[0m: 0",
      "\nThe above exception was the direct cause of the following exception:\n",
      "\u001b[0;31mKeyError\u001b[0m                                  Traceback (most recent call last)",
      "\u001b[1;32m/Users/manoj/Developer/Fall_2023/544/project/1_ranked_sentences.ipynb Cell 2\u001b[0m line \u001b[0;36m4\n\u001b[1;32m     <a href='vscode-notebook-cell:/Users/manoj/Developer/Fall_2023/544/project/1_ranked_sentences.ipynb#W1sZmlsZQ%3D%3D?line=44'>45</a>\u001b[0m sampleCount \u001b[39m=\u001b[39m [\u001b[39m100\u001b[39m,\u001b[39m1000\u001b[39m,\u001b[39m100\u001b[39m]\n\u001b[1;32m     <a href='vscode-notebook-cell:/Users/manoj/Developer/Fall_2023/544/project/1_ranked_sentences.ipynb#W1sZmlsZQ%3D%3D?line=45'>46</a>\u001b[0m \u001b[39mfor\u001b[39;00m file,count \u001b[39min\u001b[39;00m \u001b[39mzip\u001b[39m(files,sampleCount):\n\u001b[0;32m---> <a href='vscode-notebook-cell:/Users/manoj/Developer/Fall_2023/544/project/1_ranked_sentences.ipynb#W1sZmlsZQ%3D%3D?line=46'>47</a>\u001b[0m     process(file,count)\n",
      "\u001b[1;32m/Users/manoj/Developer/Fall_2023/544/project/1_ranked_sentences.ipynb Cell 2\u001b[0m line \u001b[0;36m1\n\u001b[1;32m     <a href='vscode-notebook-cell:/Users/manoj/Developer/Fall_2023/544/project/1_ranked_sentences.ipynb#W1sZmlsZQ%3D%3D?line=10'>11</a>\u001b[0m df \u001b[39m=\u001b[39m df\u001b[39m.\u001b[39mhead(sampleCount)\n\u001b[1;32m     <a href='vscode-notebook-cell:/Users/manoj/Developer/Fall_2023/544/project/1_ranked_sentences.ipynb#W1sZmlsZQ%3D%3D?line=11'>12</a>\u001b[0m \u001b[39m# Comment above\u001b[39;00m\n\u001b[0;32m---> <a href='vscode-notebook-cell:/Users/manoj/Developer/Fall_2023/544/project/1_ranked_sentences.ipynb#W1sZmlsZQ%3D%3D?line=12'>13</a>\u001b[0m \u001b[39mprint\u001b[39m(df\u001b[39m.\u001b[39;49mloc[\u001b[39m0\u001b[39;49m][\u001b[39m'\u001b[39m\u001b[39msegments\u001b[39m\u001b[39m'\u001b[39m])\n\u001b[1;32m     <a href='vscode-notebook-cell:/Users/manoj/Developer/Fall_2023/544/project/1_ranked_sentences.ipynb#W1sZmlsZQ%3D%3D?line=13'>14</a>\u001b[0m ranked_sentences \u001b[39m=\u001b[39m []\n\u001b[1;32m     <a href='vscode-notebook-cell:/Users/manoj/Developer/Fall_2023/544/project/1_ranked_sentences.ipynb#W1sZmlsZQ%3D%3D?line=14'>15</a>\u001b[0m \u001b[39mfor\u001b[39;00m i, row \u001b[39min\u001b[39;00m tqdm\u001b[39m.\u001b[39mnotebook\u001b[39m.\u001b[39mtqdm(df\u001b[39m.\u001b[39miterrows(),total\u001b[39m=\u001b[39m\u001b[39mlen\u001b[39m(df)):\n",
      "File \u001b[0;32m~/miniconda3/envs/hldc/lib/python3.10/site-packages/pandas/core/indexing.py:1153\u001b[0m, in \u001b[0;36m_LocationIndexer.__getitem__\u001b[0;34m(self, key)\u001b[0m\n\u001b[1;32m   1150\u001b[0m axis \u001b[39m=\u001b[39m \u001b[39mself\u001b[39m\u001b[39m.\u001b[39maxis \u001b[39mor\u001b[39;00m \u001b[39m0\u001b[39m\n\u001b[1;32m   1152\u001b[0m maybe_callable \u001b[39m=\u001b[39m com\u001b[39m.\u001b[39mapply_if_callable(key, \u001b[39mself\u001b[39m\u001b[39m.\u001b[39mobj)\n\u001b[0;32m-> 1153\u001b[0m \u001b[39mreturn\u001b[39;00m \u001b[39mself\u001b[39;49m\u001b[39m.\u001b[39;49m_getitem_axis(maybe_callable, axis\u001b[39m=\u001b[39;49maxis)\n",
      "File \u001b[0;32m~/miniconda3/envs/hldc/lib/python3.10/site-packages/pandas/core/indexing.py:1393\u001b[0m, in \u001b[0;36m_LocIndexer._getitem_axis\u001b[0;34m(self, key, axis)\u001b[0m\n\u001b[1;32m   1391\u001b[0m \u001b[39m# fall thru to straight lookup\u001b[39;00m\n\u001b[1;32m   1392\u001b[0m \u001b[39mself\u001b[39m\u001b[39m.\u001b[39m_validate_key(key, axis)\n\u001b[0;32m-> 1393\u001b[0m \u001b[39mreturn\u001b[39;00m \u001b[39mself\u001b[39;49m\u001b[39m.\u001b[39;49m_get_label(key, axis\u001b[39m=\u001b[39;49maxis)\n",
      "File \u001b[0;32m~/miniconda3/envs/hldc/lib/python3.10/site-packages/pandas/core/indexing.py:1343\u001b[0m, in \u001b[0;36m_LocIndexer._get_label\u001b[0;34m(self, label, axis)\u001b[0m\n\u001b[1;32m   1341\u001b[0m \u001b[39mdef\u001b[39;00m \u001b[39m_get_label\u001b[39m(\u001b[39mself\u001b[39m, label, axis: AxisInt):\n\u001b[1;32m   1342\u001b[0m     \u001b[39m# GH#5567 this will fail if the label is not present in the axis.\u001b[39;00m\n\u001b[0;32m-> 1343\u001b[0m     \u001b[39mreturn\u001b[39;00m \u001b[39mself\u001b[39;49m\u001b[39m.\u001b[39;49mobj\u001b[39m.\u001b[39;49mxs(label, axis\u001b[39m=\u001b[39;49maxis)\n",
      "File \u001b[0;32m~/miniconda3/envs/hldc/lib/python3.10/site-packages/pandas/core/generic.py:4236\u001b[0m, in \u001b[0;36mNDFrame.xs\u001b[0;34m(self, key, axis, level, drop_level)\u001b[0m\n\u001b[1;32m   4234\u001b[0m             new_index \u001b[39m=\u001b[39m index[loc]\n\u001b[1;32m   4235\u001b[0m \u001b[39melse\u001b[39;00m:\n\u001b[0;32m-> 4236\u001b[0m     loc \u001b[39m=\u001b[39m index\u001b[39m.\u001b[39;49mget_loc(key)\n\u001b[1;32m   4238\u001b[0m     \u001b[39mif\u001b[39;00m \u001b[39misinstance\u001b[39m(loc, np\u001b[39m.\u001b[39mndarray):\n\u001b[1;32m   4239\u001b[0m         \u001b[39mif\u001b[39;00m loc\u001b[39m.\u001b[39mdtype \u001b[39m==\u001b[39m np\u001b[39m.\u001b[39mbool_:\n",
      "File \u001b[0;32m~/miniconda3/envs/hldc/lib/python3.10/site-packages/pandas/core/indexes/base.py:3797\u001b[0m, in \u001b[0;36mIndex.get_loc\u001b[0;34m(self, key)\u001b[0m\n\u001b[1;32m   3792\u001b[0m     \u001b[39mif\u001b[39;00m \u001b[39misinstance\u001b[39m(casted_key, \u001b[39mslice\u001b[39m) \u001b[39mor\u001b[39;00m (\n\u001b[1;32m   3793\u001b[0m         \u001b[39misinstance\u001b[39m(casted_key, abc\u001b[39m.\u001b[39mIterable)\n\u001b[1;32m   3794\u001b[0m         \u001b[39mand\u001b[39;00m \u001b[39many\u001b[39m(\u001b[39misinstance\u001b[39m(x, \u001b[39mslice\u001b[39m) \u001b[39mfor\u001b[39;00m x \u001b[39min\u001b[39;00m casted_key)\n\u001b[1;32m   3795\u001b[0m     ):\n\u001b[1;32m   3796\u001b[0m         \u001b[39mraise\u001b[39;00m InvalidIndexError(key)\n\u001b[0;32m-> 3797\u001b[0m     \u001b[39mraise\u001b[39;00m \u001b[39mKeyError\u001b[39;00m(key) \u001b[39mfrom\u001b[39;00m \u001b[39merr\u001b[39;00m\n\u001b[1;32m   3798\u001b[0m \u001b[39mexcept\u001b[39;00m \u001b[39mTypeError\u001b[39;00m:\n\u001b[1;32m   3799\u001b[0m     \u001b[39m# If we have a listlike key, _check_indexing_error will raise\u001b[39;00m\n\u001b[1;32m   3800\u001b[0m     \u001b[39m#  InvalidIndexError. Otherwise we fall through and re-raise\u001b[39;00m\n\u001b[1;32m   3801\u001b[0m     \u001b[39m#  the TypeError.\u001b[39;00m\n\u001b[1;32m   3802\u001b[0m     \u001b[39mself\u001b[39m\u001b[39m.\u001b[39m_check_indexing_error(key)\n",
      "\u001b[0;31mKeyError\u001b[0m: 0"
     ]
    }
   ],
   "source": [
    "base_path = \"./data/raw/\"\n",
    "write_path = \"./data/ranked1/\"\n",
    "\n",
    "def process(file,sampleCount):\n",
    "    print(f\"Current file:{file}\")\n",
    "    with open(f\"{base_path}/{file}\") as f:\n",
    "        data = json.load(f)\n",
    "    df = pd.DataFrame(data)\n",
    "    df=df.transpose()\n",
    "    # Comment below\n",
    "    df = df.head(sampleCount)\n",
    "    # Comment above\n",
    "    print(df.loc[0]['segments'])\n",
    "    ranked_sentences = []\n",
    "    for i, row in tqdm.notebook.tqdm(df.iterrows(),total=len(df)):\n",
    "        src_sents=[]\n",
    "        paras = df.loc[i][\"segments\"]['facts-and-arguments']\n",
    "        for para in paras:\n",
    "            sent = para.split('।')\n",
    "            sent = [i for i in sent if len(i)!=0 and i!=' ']\n",
    "            src_sents.extend(sent)\n",
    "        s1=src_sents\n",
    "        s2 = [\" \".join(df.loc[i][\"segments\"]['judge-opinion'])]\n",
    "        e1 = model.encode(s1)\n",
    "        e2 = model.encode(s2)\n",
    "        cos_sim = util.cos_sim(e2, e1)\n",
    "        s1 = np.asarray(s1)\n",
    "        ranks=s1[np.argsort(-1*cos_sim[0].numpy())]\n",
    "        ranked_sentences.append(ranks.tolist())\n",
    "\n",
    "    df = df.head(len(ranked_sentences))\n",
    "    df['ranked-sentences'] = ranked_sentences\n",
    "    df['ranked-sentences'].map(len)\n",
    "    file = file.replace(\".json\",\".csv\")\n",
    "    df.to_csv(f\"{write_path}/{file}\")\n",
    "\n",
    "files = os.listdir(base_path)\n",
    "try:\n",
    "    os.mkdir(write_path)\n",
    "except:\n",
    "    pass\n",
    "files = [f for f in files if \".json\" in f]\n",
    "\n",
    "# Test, Train, Val split\n",
    "sampleCount = [100,1000,100]\n",
    "for file,count in zip(files,sampleCount):\n",
    "    process(file,count)\n"
   ]
  }
 ],
 "metadata": {
  "kernelspec": {
   "display_name": "HLDC",
   "language": "python",
   "name": "hldc"
  },
  "language_info": {
   "codemirror_mode": {
    "name": "ipython",
    "version": 3
   },
   "file_extension": ".py",
   "mimetype": "text/x-python",
   "name": "python",
   "nbconvert_exporter": "python",
   "pygments_lexer": "ipython3",
   "version": "3.10.12"
  }
 },
 "nbformat": 4,
 "nbformat_minor": 5
}
